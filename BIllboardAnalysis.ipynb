{
 "cells": [
  {
   "cell_type": "code",
   "execution_count": 1,
   "metadata": {
    "collapsed": true
   },
   "outputs": [],
   "source": [
    "import pandas as pd\n",
    "import numpy as np\n",
    "import matplotlib as mpl\n",
    "import matplotlib.pyplot as plt\n",
    "import seaborn as sns\n",
    "import re\n",
    "from collections import Counter"
   ]
  },
  {
   "cell_type": "code",
   "execution_count": 2,
   "metadata": {
    "collapsed": true
   },
   "outputs": [],
   "source": [
    "%matplotlib inline"
   ]
  },
  {
   "cell_type": "code",
   "execution_count": 3,
   "metadata": {
    "collapsed": true
   },
   "outputs": [],
   "source": [
    "ts = pd.read_csv('billtopsong.csv')"
   ]
  },
  {
   "cell_type": "code",
   "execution_count": 4,
   "metadata": {
    "collapsed": true
   },
   "outputs": [],
   "source": [
    "ts['artists'] = ts['artists'].map(lambda i: i.split(' Featuring')[0])\n",
    "ts['artists'] = ts['artists'].map(lambda i: i.split(',')[0])\n",
    "ts['artists'] = ts['artists'].map(lambda i: i.split(' &')[0])\n",
    "ts['artists'] = ts['artists'].map(lambda i: i.split(' +')[0])\n",
    "ts['artists'] = ts['artists'].map(lambda i: i.split('Jay Z ')[0])\n",
    "ts['artists'] = ts['artists'].map(lambda x: re.sub('Jay[ ]+Z', 'Jay-Z', x))\n",
    "counts = pd.DataFrame({'artists':ts.artists.value_counts().index, 'count':ts.artists.value_counts().values})\n",
    "ts_count = pd.merge(ts, counts, on='artists', how='right')\n",
    "counts_graph = counts.head(20)"
   ]
  },
  {
   "cell_type": "code",
   "execution_count": 123,
   "metadata": {},
   "outputs": [],
   "source": [
    "#counts_graph.plot(x='artists', y='count', kind='bar')\n",
    "#plt.xticks(rotation='vertical')\n",
    "#plt.show()"
   ]
  },
  {
   "cell_type": "code",
   "execution_count": 124,
   "metadata": {},
   "outputs": [],
   "source": [
    "#sns.stripplot(x=\"count\", y=\"artists\", data=counts_graph)"
   ]
  },
  {
   "cell_type": "code",
   "execution_count": 125,
   "metadata": {},
   "outputs": [],
   "source": [
    "#sns.barplot(x=\"count\", y=\"artists\", data=counts_graph)"
   ]
  },
  {
   "cell_type": "code",
   "execution_count": 126,
   "metadata": {},
   "outputs": [],
   "source": [
    "#sns.swarmplot(x='year',y='artists',data=ts_count)"
   ]
  },
  {
   "cell_type": "code",
   "execution_count": 127,
   "metadata": {},
   "outputs": [],
   "source": [
    "swarm = ts_count[ts_count['artists'].isin(counts_graph.artists)]\n",
    "#sns.swarmplot(x='year',y='artists',data=swarm)"
   ]
  },
  {
   "cell_type": "code",
   "execution_count": 16,
   "metadata": {
    "collapsed": true
   },
   "outputs": [],
   "source": [
    "top_artist = pd.read_csv('billtopar.csv')"
   ]
  },
  {
   "cell_type": "code",
   "execution_count": 128,
   "metadata": {},
   "outputs": [],
   "source": [
    "ta = pd.DataFrame({'artists':top_artist.artists.value_counts().index, 'count':top_artist.artists.value_counts().values})\n",
    "ta_head = ta.head(20)\n",
    "#sns.barplot(x=\"count\", y=\"artists\", data=ta_head);"
   ]
  },
  {
   "cell_type": "code",
   "execution_count": 129,
   "metadata": {},
   "outputs": [],
   "source": [
    "ta_count = pd.merge(ta, top_artist, on='artists', how='right')\n",
    "swarma = ta_count[ta_count['artists'].isin(ta_head.artists)]\n",
    "#sns.swarmplot(x='year',y='artists',data=swarma)"
   ]
  },
  {
   "cell_type": "code",
   "execution_count": 19,
   "metadata": {
    "collapsed": true
   },
   "outputs": [],
   "source": [
    "all_time = pd.read_csv('billall.csv')\n",
    "all_time = all_time.rename(columns={'name': 'artists'})"
   ]
  },
  {
   "cell_type": "code",
   "execution_count": 61,
   "metadata": {},
   "outputs": [],
   "source": [
    "all_time_count = pd.merge(all_time, ta, on='artists', how='right')\n",
    "all_time_count = all_time_count.head(25)"
   ]
  },
  {
   "cell_type": "code",
   "execution_count": 21,
   "metadata": {
    "collapsed": true
   },
   "outputs": [],
   "source": [
    "top_rap = pd.read_csv('billtoprap.csv')"
   ]
  },
  {
   "cell_type": "code",
   "execution_count": 22,
   "metadata": {
    "collapsed": true
   },
   "outputs": [],
   "source": [
    "top_rap['artists'] = top_rap['artists'].map(lambda i: i.split(' Featuring')[0])\n",
    "top_rap['artists'] = top_rap['artists'].map(lambda i: i.split(',')[0])\n",
    "top_rap['artists'] = top_rap['artists'].map(lambda i: i.split(' &')[0])\n",
    "top_rap['artists'] = top_rap['artists'].map(lambda i: i.split(' +')[0])\n",
    "top_rap['artists'] = top_rap['artists'].map(lambda i: i.split('Jay Z ')[0])\n",
    "top_rap['artists'] = top_rap['artists'].map(lambda x: re.sub('Jay[ ]+Z', 'Jay-Z', x))\n",
    "rap_counts = pd.DataFrame({'artists':top_rap.artists.value_counts().index, 'count':top_rap.artists.value_counts().values})\n",
    "tr_count = pd.merge(top_rap, rap_counts, on='artists', how='right')\n",
    "tr_counts_graph = rap_counts.head(20)"
   ]
  },
  {
   "cell_type": "code",
   "execution_count": 130,
   "metadata": {},
   "outputs": [],
   "source": [
    "#sns.barplot(x=\"count\", y=\"artists\", data=tr_counts_graph)"
   ]
  },
  {
   "cell_type": "code",
   "execution_count": 131,
   "metadata": {},
   "outputs": [],
   "source": [
    "rap_swarm = tr_count[tr_count['artists'].isin(tr_counts_graph.artists)]\n",
    "#sns.swarmplot(x='year',y='artists',data=rap_swarm)"
   ]
  },
  {
   "cell_type": "code",
   "execution_count": 25,
   "metadata": {
    "collapsed": true
   },
   "outputs": [],
   "source": [
    "top_rb = pd.read_csv('billtoprb.csv')"
   ]
  },
  {
   "cell_type": "code",
   "execution_count": 26,
   "metadata": {
    "collapsed": true
   },
   "outputs": [],
   "source": [
    "top_rb['artists'] = top_rb['artists'].map(lambda i: i.split(' Featuring')[0])\n",
    "top_rb['artists'] = top_rb['artists'].map(lambda i: i.split(',')[0])\n",
    "top_rb['artists'] = top_rb['artists'].map(lambda i: i.split(' &')[0])\n",
    "top_rb['artists'] = top_rb['artists'].map(lambda i: i.split(' +')[0])\n",
    "top_rb['artists'] = top_rb['artists'].map(lambda i: i.split('Jay Z ')[0])\n",
    "top_rb['artists'] = top_rb['artists'].map(lambda x: re.sub('Jay[ ]+Z', 'Jay-Z', x))\n",
    "rb_counts = pd.DataFrame({'artists':top_rb.artists.value_counts().index, 'count':top_rb.artists.value_counts().values})\n",
    "trb_count = pd.merge(top_rb, rb_counts, on='artists', how='right')\n",
    "trb_counts_graph = rb_counts.head(20)"
   ]
  },
  {
   "cell_type": "code",
   "execution_count": 132,
   "metadata": {},
   "outputs": [],
   "source": [
    "#sns.barplot(x=\"count\", y=\"artists\", data=trb_counts_graph)"
   ]
  },
  {
   "cell_type": "code",
   "execution_count": 133,
   "metadata": {},
   "outputs": [],
   "source": [
    "swarmrb = trb_count[trb_count['artists'].isin(trb_counts_graph.artists)]\n",
    "#sns.swarmplot(x='year',y='artists',data=swarmrb)"
   ]
  },
  {
   "cell_type": "code",
   "execution_count": 29,
   "metadata": {
    "collapsed": true
   },
   "outputs": [],
   "source": [
    "top_rock = pd.read_csv('billtoprock.csv')"
   ]
  },
  {
   "cell_type": "code",
   "execution_count": 30,
   "metadata": {
    "collapsed": true
   },
   "outputs": [],
   "source": [
    "top_rock['artists'] = top_rock['artists'].map(lambda i: i.split(' Featuring')[0])\n",
    "top_rock['artists'] = top_rock['artists'].map(lambda i: i.split(',')[0])\n",
    "top_rock['artists'] = top_rock['artists'].map(lambda i: i.split(' &')[0])\n",
    "top_rock['artists'] = top_rock['artists'].map(lambda i: i.split(' +')[0])\n",
    "rock_counts = pd.DataFrame({'artists':top_rock.artists.value_counts().index, 'count':top_rock.artists.value_counts().values})\n",
    "trock_count = pd.merge(top_rock, rock_counts, on='artists', how='right')\n",
    "trock_counts_graph = rock_counts.head(20)"
   ]
  },
  {
   "cell_type": "code",
   "execution_count": 134,
   "metadata": {},
   "outputs": [],
   "source": [
    "#sns.barplot(x=\"count\", y=\"artists\", data=trock_counts_graph)"
   ]
  },
  {
   "cell_type": "code",
   "execution_count": 135,
   "metadata": {},
   "outputs": [],
   "source": [
    "swarmrock = trock_count[trock_count['artists'].isin(trock_counts_graph.artists)]\n",
    "#sns.swarmplot(x='year',y='artists',data=swarmrock)"
   ]
  },
  {
   "cell_type": "code",
   "execution_count": 33,
   "metadata": {
    "collapsed": true
   },
   "outputs": [],
   "source": [
    "topc = pd.read_csv('billtopcountry.csv')"
   ]
  },
  {
   "cell_type": "code",
   "execution_count": 34,
   "metadata": {
    "collapsed": true
   },
   "outputs": [],
   "source": [
    "topc['artists'] = topc['artists'].map(lambda i: i.split(' Featuring')[0])\n",
    "topc['artists'] = topc['artists'].map(lambda i: i.split(',')[0])\n",
    "topc['artists'] = topc['artists'].map(lambda i: i.split(' &')[0])\n",
    "topc['artists'] = topc['artists'].map(lambda i: i.split(' +')[0])\n",
    "c_counts = pd.DataFrame({'artists':topc.artists.value_counts().index, 'count':topc.artists.value_counts().values})\n",
    "tc_count = pd.merge(topc, c_counts, on='artists', how='right')\n",
    "tc_counts_graph = c_counts.head(20)"
   ]
  },
  {
   "cell_type": "code",
   "execution_count": 136,
   "metadata": {},
   "outputs": [],
   "source": [
    "#sns.barplot(x=\"count\", y=\"artists\", data=tc_counts_graph)"
   ]
  },
  {
   "cell_type": "code",
   "execution_count": 137,
   "metadata": {},
   "outputs": [],
   "source": [
    "swarmc = tc_count[tc_count['artists'].isin(tc_counts_graph.artists)]\n",
    "#sns.swarmplot(x='year',y='artists',data=swarmc)"
   ]
  },
  {
   "cell_type": "code",
   "execution_count": 37,
   "metadata": {
    "collapsed": true
   },
   "outputs": [],
   "source": [
    "tope = pd.read_csv('billtopedm.csv')"
   ]
  },
  {
   "cell_type": "code",
   "execution_count": 38,
   "metadata": {
    "collapsed": true
   },
   "outputs": [],
   "source": [
    "tope['artists'] = tope['artists'].map(lambda i: i.split(' Featuring')[0])\n",
    "tope['artists'] = tope['artists'].map(lambda i: i.split(',')[0])\n",
    "tope['artists'] = tope['artists'].map(lambda i: i.split(' &')[0])\n",
    "tope['artists'] = tope['artists'].map(lambda i: i.split(' +')[0])\n",
    "edm_counts = pd.DataFrame({'artists':tope.artists.value_counts().index, 'count':tope.artists.value_counts().values})\n",
    "te_count = pd.merge(tope, edm_counts, on='artists', how='right')\n",
    "te_counts_graph = edm_counts.head(20)"
   ]
  },
  {
   "cell_type": "code",
   "execution_count": 138,
   "metadata": {},
   "outputs": [],
   "source": [
    "#sns.barplot(x=\"count\", y=\"artists\", data=te_counts_graph)"
   ]
  },
  {
   "cell_type": "code",
   "execution_count": 139,
   "metadata": {},
   "outputs": [],
   "source": [
    "swarme = te_count[te_count['artists'].isin(te_counts_graph.artists)]\n",
    "#sns.swarmplot(x='year',y='artists',data=swarme)"
   ]
  },
  {
   "cell_type": "code",
   "execution_count": 41,
   "metadata": {
    "collapsed": true
   },
   "outputs": [],
   "source": [
    "singer_gender = pd.read_csv('singers_gender.csv',encoding='latin-1')\n",
    "singer_gender = singer_gender.rename(columns={'artist': 'artists'})\n",
    "singer_gender['artists'] = singer_gender['artists'].str.upper()"
   ]
  },
  {
   "cell_type": "code",
   "execution_count": 122,
   "metadata": {},
   "outputs": [],
   "source": [
    "tsmerge = counts_graph.copy()\n",
    "tsmerge['artists'] = tsmerge['artists'].str.upper()"
   ]
  },
  {
   "cell_type": "code",
   "execution_count": 43,
   "metadata": {
    "collapsed": true
   },
   "outputs": [],
   "source": [
    "#a = singer_gender[singer_gender.artists.map(lambda x: re.match('SEAN*', x)!= None)]"
   ]
  },
  {
   "cell_type": "code",
   "execution_count": 111,
   "metadata": {},
   "outputs": [
    {
     "name": "stderr",
     "output_type": "stream",
     "text": [
      "/Users/xiaoweicheng/anaconda/lib/python3.6/site-packages/pandas/core/indexing.py:179: SettingWithCopyWarning: \n",
      "A value is trying to be set on a copy of a slice from a DataFrame\n",
      "\n",
      "See the caveats in the documentation: http://pandas.pydata.org/pandas-docs/stable/indexing.html#indexing-view-versus-copy\n",
      "  self._setitem_with_indexer(indexer, value)\n"
     ]
    }
   ],
   "source": [
    "joints = pd.merge(tsmerge, singer_gender, on='artists', how='left')\n",
    "joints['gender'].loc[joints['artists']=='BEYONCE'] = joints['gender'].loc[joints['artists']=='BEYONCE'].replace(to_replace=np.nan, value = 'female')\n",
    "joints['gender'] = joints['gender'].fillna('group')"
   ]
  },
  {
   "cell_type": "code",
   "execution_count": 112,
   "metadata": {
    "collapsed": true
   },
   "outputs": [],
   "source": [
    "jointsgender = pd.DataFrame({'gender':joints.gender.value_counts().index, 'count':joints.gender.value_counts().values})"
   ]
  },
  {
   "cell_type": "code",
   "execution_count": 140,
   "metadata": {},
   "outputs": [],
   "source": [
    "#sns.swarmplot(x=\"count\", y=\"gender\",data=joints)"
   ]
  },
  {
   "cell_type": "code",
   "execution_count": 141,
   "metadata": {},
   "outputs": [],
   "source": [
    "#sns.barplot(x=\"gender\", y=\"count\",data=jointsgender)"
   ]
  },
  {
   "cell_type": "code",
   "execution_count": 108,
   "metadata": {},
   "outputs": [
    {
     "name": "stderr",
     "output_type": "stream",
     "text": [
      "/Users/xiaoweicheng/anaconda/lib/python3.6/site-packages/pandas/core/indexing.py:179: SettingWithCopyWarning: \n",
      "A value is trying to be set on a copy of a slice from a DataFrame\n",
      "\n",
      "See the caveats in the documentation: http://pandas.pydata.org/pandas-docs/stable/indexing.html#indexing-view-versus-copy\n",
      "  self._setitem_with_indexer(indexer, value)\n"
     ]
    }
   ],
   "source": [
    "tamerge = ta_head.copy()\n",
    "tamerge['artists'] = tamerge['artists'].str.upper()\n",
    "jointa = pd.merge(tamerge, singer_gender, on='artists', how='left')\n",
    "jointa['gender'].loc[jointa['artists']=='PITBULL'] = jointa['gender'].loc[jointa['artists']=='PITBULL'].replace(to_replace=np.nan, value = 'male')\n",
    "jointa['gender'].loc[jointa['artists']=='BEYONCE'] = jointa['gender'].loc[jointa['artists']=='BEYONCE'].replace(to_replace=np.nan, value = 'female')\n",
    "jointa['gender'] = jointa['gender'].fillna('group')\n"
   ]
  },
  {
   "cell_type": "code",
   "execution_count": 142,
   "metadata": {},
   "outputs": [],
   "source": [
    "#sns.swarmplot(x=\"count\", y=\"gender\",data=jointa)"
   ]
  },
  {
   "cell_type": "code",
   "execution_count": 143,
   "metadata": {},
   "outputs": [],
   "source": [
    "jointagender = pd.DataFrame({'gender':jointa.gender.value_counts().index, 'count':jointa.gender.value_counts().values})\n",
    "#sns.barplot(x=\"gender\", y=\"count\",data=jointagender)"
   ]
  },
  {
   "cell_type": "code",
   "execution_count": 87,
   "metadata": {},
   "outputs": [],
   "source": [
    "allmerge = all_time.copy()\n",
    "allmerge['artists'] = allmerge['artists'].str.upper()\n",
    "joinall = pd.merge(allmerge, singer_gender, on='artists', how='left')"
   ]
  },
  {
   "cell_type": "code",
   "execution_count": 88,
   "metadata": {},
   "outputs": [],
   "source": [
    "joinall['gender'] = joinall['gender'].fillna('group')"
   ]
  },
  {
   "cell_type": "code",
   "execution_count": 89,
   "metadata": {},
   "outputs": [],
   "source": [
    "joinallgender = pd.DataFrame({'gender':joinall.gender.value_counts().index, 'count':joinall.gender.value_counts().values})"
   ]
  },
  {
   "cell_type": "code",
   "execution_count": 144,
   "metadata": {},
   "outputs": [],
   "source": [
    "#sns.barplot(x=\"gender\", y=\"count\",data=joinallgender)"
   ]
  },
  {
   "cell_type": "code",
   "execution_count": 148,
   "metadata": {},
   "outputs": [
    {
     "name": "stderr",
     "output_type": "stream",
     "text": [
      "/Users/xiaoweicheng/anaconda/lib/python3.6/site-packages/pandas/core/indexing.py:179: SettingWithCopyWarning: \n",
      "A value is trying to be set on a copy of a slice from a DataFrame\n",
      "\n",
      "See the caveats in the documentation: http://pandas.pydata.org/pandas-docs/stable/indexing.html#indexing-view-versus-copy\n",
      "  self._setitem_with_indexer(indexer, value)\n"
     ]
    }
   ],
   "source": [
    "trapmerge = tr_counts_graph.copy()\n",
    "trapmerge['artists'] = trapmerge['artists'].str.upper()\n",
    "jointrap = pd.merge(trapmerge, singer_gender, on='artists', how='left')\n",
    "jointrap['gender'].loc[jointrap['artists']=='PITBULL'] = jointrap['gender'].loc[jointrap['artists']=='PITBULL'].replace(to_replace=np.nan, value = 'male')\n",
    "jointrap['gender'].loc[jointrap['artists']=='DJ KHALED'] = jointrap['gender'].loc[jointrap['artists']=='DJ KHALED'].replace(to_replace=np.nan, value = 'male')\n",
    "jointrap['gender'].loc[jointrap['artists']=='IGGY AZALEA'] = jointrap['gender'].loc[jointrap['artists']=='IGGY AZALEA'].replace(to_replace=np.nan, value = 'female')\n",
    "jointrap['gender'].loc[jointrap['artists']=='JAY-Z'] = jointrap['gender'].loc[jointrap['artists']=='JAY-Z'].replace(to_replace=np.nan, value = 'male')\n",
    "jointrap['gender'] = jointrap['gender'].fillna('group')\n",
    "jointrapgender = pd.DataFrame({'gender':jointrap.gender.value_counts().index, 'count':jointrap.gender.value_counts().values})"
   ]
  },
  {
   "cell_type": "code",
   "execution_count": 150,
   "metadata": {},
   "outputs": [],
   "source": [
    "#sns.barplot(x=\"gender\", y=\"count\",data=jointrapgender)"
   ]
  },
  {
   "cell_type": "code",
   "execution_count": 153,
   "metadata": {},
   "outputs": [
    {
     "name": "stderr",
     "output_type": "stream",
     "text": [
      "/Users/xiaoweicheng/anaconda/lib/python3.6/site-packages/pandas/core/indexing.py:179: SettingWithCopyWarning: \n",
      "A value is trying to be set on a copy of a slice from a DataFrame\n",
      "\n",
      "See the caveats in the documentation: http://pandas.pydata.org/pandas-docs/stable/indexing.html#indexing-view-versus-copy\n",
      "  self._setitem_with_indexer(indexer, value)\n"
     ]
    }
   ],
   "source": [
    "trbmerge = trb_counts_graph.copy()\n",
    "trbmerge['artists'] = trbmerge['artists'].str.upper()\n",
    "jointrb = pd.merge(trbmerge, singer_gender, on='artists', how='left')\n",
    "jointrb['gender'].loc[jointrb['artists']=='DJ KHALED'] = jointrb['gender'].loc[jointrb['artists']=='DJ KHALED'].replace(to_replace=np.nan, value = 'male')\n",
    "jointrb['gender'].loc[jointrb['artists']=='JAY-Z'] = jointrb['gender'].loc[jointrb['artists']=='JAY-Z'].replace(to_replace=np.nan, value = 'male')\n",
    "jointrb['gender'].loc[jointrb['artists']=='BEYONCE'] = jointrb['gender'].loc[jointrb['artists']=='BEYONCE'].replace(to_replace=np.nan, value = 'female')\n",
    "jointrb['gender'].loc[jointrb['artists']=='THE WEEKND'] = jointrb['gender'].loc[jointrb['artists']=='THE WEEKND'].replace(to_replace=np.nan,value = 'male')\n",
    "jointrbgender = pd.DataFrame({'gender':jointrb.gender.value_counts().index, 'count':jointrb.gender.value_counts().values})\n"
   ]
  },
  {
   "cell_type": "code",
   "execution_count": 155,
   "metadata": {},
   "outputs": [],
   "source": [
    "#sns.barplot(x=\"gender\", y=\"count\",data=jointrbgender)"
   ]
  },
  {
   "cell_type": "code",
   "execution_count": 160,
   "metadata": {},
   "outputs": [],
   "source": [
    "trockmerge = trock_counts_graph.copy()\n",
    "trockmerge['artists'] = trockmerge['artists'].str.upper()\n",
    "jointrock = pd.merge(trockmerge, singer_gender, on='artists', how='left')\n",
    "jointrock['gender'] = jointrock['gender'].fillna('group')\n",
    "jointrockgender = pd.DataFrame({'gender':jointrock.gender.value_counts().index, 'count':jointrock.gender.value_counts().values})\n"
   ]
  },
  {
   "cell_type": "code",
   "execution_count": 162,
   "metadata": {},
   "outputs": [],
   "source": [
    "#sns.barplot(x=\"gender\", y=\"count\",data=jointrockgender)"
   ]
  },
  {
   "cell_type": "code",
   "execution_count": 167,
   "metadata": {},
   "outputs": [],
   "source": [
    "tcmerge = tc_counts_graph.copy()\n",
    "tcmerge['artists'] = tcmerge['artists'].str.upper()\n",
    "jointc = pd.merge(tcmerge, singer_gender, on='artists', how='left')\n",
    "jointc['gender'] = jointc['gender'].fillna('group')\n",
    "jointcgender = pd.DataFrame({'gender':jointc.gender.value_counts().index, 'count':jointc.gender.value_counts().values})\n"
   ]
  },
  {
   "cell_type": "code",
   "execution_count": 168,
   "metadata": {},
   "outputs": [],
   "source": [
    "#sns.barplot(x=\"gender\", y=\"count\",data=jointcgender)"
   ]
  },
  {
   "cell_type": "code",
   "execution_count": 190,
   "metadata": {},
   "outputs": [
    {
     "name": "stderr",
     "output_type": "stream",
     "text": [
      "/Users/xiaoweicheng/anaconda/lib/python3.6/site-packages/pandas/core/indexing.py:179: SettingWithCopyWarning: \n",
      "A value is trying to be set on a copy of a slice from a DataFrame\n",
      "\n",
      "See the caveats in the documentation: http://pandas.pydata.org/pandas-docs/stable/indexing.html#indexing-view-versus-copy\n",
      "  self._setitem_with_indexer(indexer, value)\n"
     ]
    },
    {
     "data": {
      "text/html": [
       "<div>\n",
       "<style>\n",
       "    .dataframe thead tr:only-child th {\n",
       "        text-align: right;\n",
       "    }\n",
       "\n",
       "    .dataframe thead th {\n",
       "        text-align: left;\n",
       "    }\n",
       "\n",
       "    .dataframe tbody tr th {\n",
       "        vertical-align: top;\n",
       "    }\n",
       "</style>\n",
       "<table border=\"1\" class=\"dataframe\">\n",
       "  <thead>\n",
       "    <tr style=\"text-align: right;\">\n",
       "      <th></th>\n",
       "      <th>artists</th>\n",
       "      <th>count</th>\n",
       "      <th>gender</th>\n",
       "      <th>category</th>\n",
       "    </tr>\n",
       "  </thead>\n",
       "  <tbody>\n",
       "    <tr>\n",
       "      <th>0</th>\n",
       "      <td>CALVIN HARRIS</td>\n",
       "      <td>21</td>\n",
       "      <td>male</td>\n",
       "      <td>Scottish_male_singers</td>\n",
       "    </tr>\n",
       "    <tr>\n",
       "      <th>1</th>\n",
       "      <td>AVICII</td>\n",
       "      <td>15</td>\n",
       "      <td>male</td>\n",
       "      <td>NaN</td>\n",
       "    </tr>\n",
       "    <tr>\n",
       "      <th>2</th>\n",
       "      <td>DAVID GUETTA</td>\n",
       "      <td>12</td>\n",
       "      <td>male</td>\n",
       "      <td>NaN</td>\n",
       "    </tr>\n",
       "    <tr>\n",
       "      <th>3</th>\n",
       "      <td>THE CHAINSMOKERS</td>\n",
       "      <td>12</td>\n",
       "      <td>group</td>\n",
       "      <td>NaN</td>\n",
       "    </tr>\n",
       "    <tr>\n",
       "      <th>4</th>\n",
       "      <td>ZEDD</td>\n",
       "      <td>10</td>\n",
       "      <td>male</td>\n",
       "      <td>NaN</td>\n",
       "    </tr>\n",
       "    <tr>\n",
       "      <th>5</th>\n",
       "      <td>DJ SNAKE</td>\n",
       "      <td>10</td>\n",
       "      <td>male</td>\n",
       "      <td>NaN</td>\n",
       "    </tr>\n",
       "    <tr>\n",
       "      <th>6</th>\n",
       "      <td>DISCLOSURE</td>\n",
       "      <td>9</td>\n",
       "      <td>group</td>\n",
       "      <td>NaN</td>\n",
       "    </tr>\n",
       "    <tr>\n",
       "      <th>7</th>\n",
       "      <td>MAJOR LAZER</td>\n",
       "      <td>9</td>\n",
       "      <td>group</td>\n",
       "      <td>NaN</td>\n",
       "    </tr>\n",
       "    <tr>\n",
       "      <th>8</th>\n",
       "      <td>DAFT PUNK</td>\n",
       "      <td>8</td>\n",
       "      <td>group</td>\n",
       "      <td>NaN</td>\n",
       "    </tr>\n",
       "    <tr>\n",
       "      <th>9</th>\n",
       "      <td>STEVE AOKI</td>\n",
       "      <td>7</td>\n",
       "      <td>male</td>\n",
       "      <td>NaN</td>\n",
       "    </tr>\n",
       "    <tr>\n",
       "      <th>10</th>\n",
       "      <td>CASH CASH</td>\n",
       "      <td>7</td>\n",
       "      <td>group</td>\n",
       "      <td>NaN</td>\n",
       "    </tr>\n",
       "    <tr>\n",
       "      <th>11</th>\n",
       "      <td>KYGO</td>\n",
       "      <td>7</td>\n",
       "      <td>male</td>\n",
       "      <td>NaN</td>\n",
       "    </tr>\n",
       "    <tr>\n",
       "      <th>12</th>\n",
       "      <td>SKRILLEX</td>\n",
       "      <td>6</td>\n",
       "      <td>male</td>\n",
       "      <td>NaN</td>\n",
       "    </tr>\n",
       "    <tr>\n",
       "      <th>13</th>\n",
       "      <td>MARTIN GARRIX</td>\n",
       "      <td>6</td>\n",
       "      <td>male</td>\n",
       "      <td>NaN</td>\n",
       "    </tr>\n",
       "    <tr>\n",
       "      <th>14</th>\n",
       "      <td>KREWELLA</td>\n",
       "      <td>5</td>\n",
       "      <td>group</td>\n",
       "      <td>NaN</td>\n",
       "    </tr>\n",
       "    <tr>\n",
       "      <th>15</th>\n",
       "      <td>AFROJACK</td>\n",
       "      <td>5</td>\n",
       "      <td>male</td>\n",
       "      <td>NaN</td>\n",
       "    </tr>\n",
       "    <tr>\n",
       "      <th>16</th>\n",
       "      <td>ALESSO</td>\n",
       "      <td>5</td>\n",
       "      <td>male</td>\n",
       "      <td>NaN</td>\n",
       "    </tr>\n",
       "    <tr>\n",
       "      <th>17</th>\n",
       "      <td>CAZZETTE</td>\n",
       "      <td>5</td>\n",
       "      <td>group</td>\n",
       "      <td>NaN</td>\n",
       "    </tr>\n",
       "    <tr>\n",
       "      <th>18</th>\n",
       "      <td>TIESTO</td>\n",
       "      <td>5</td>\n",
       "      <td>male</td>\n",
       "      <td>NaN</td>\n",
       "    </tr>\n",
       "    <tr>\n",
       "      <th>19</th>\n",
       "      <td>PSY</td>\n",
       "      <td>4</td>\n",
       "      <td>male</td>\n",
       "      <td>NaN</td>\n",
       "    </tr>\n",
       "  </tbody>\n",
       "</table>\n",
       "</div>"
      ],
      "text/plain": [
       "             artists  count gender               category\n",
       "0      CALVIN HARRIS     21   male  Scottish_male_singers\n",
       "1             AVICII     15   male                    NaN\n",
       "2       DAVID GUETTA     12   male                    NaN\n",
       "3   THE CHAINSMOKERS     12  group                    NaN\n",
       "4               ZEDD     10   male                    NaN\n",
       "5           DJ SNAKE     10   male                    NaN\n",
       "6         DISCLOSURE      9  group                    NaN\n",
       "7        MAJOR LAZER      9  group                    NaN\n",
       "8          DAFT PUNK      8  group                    NaN\n",
       "9         STEVE AOKI      7   male                    NaN\n",
       "10         CASH CASH      7  group                    NaN\n",
       "11              KYGO      7   male                    NaN\n",
       "12          SKRILLEX      6   male                    NaN\n",
       "13     MARTIN GARRIX      6   male                    NaN\n",
       "14          KREWELLA      5  group                    NaN\n",
       "15          AFROJACK      5   male                    NaN\n",
       "16            ALESSO      5   male                    NaN\n",
       "17          CAZZETTE      5  group                    NaN\n",
       "18            TIESTO      5   male                    NaN\n",
       "19               PSY      4   male                    NaN"
      ]
     },
     "execution_count": 190,
     "metadata": {},
     "output_type": "execute_result"
    }
   ],
   "source": [
    "temerge = te_counts_graph.copy()\n",
    "temerge['artists'] = temerge['artists'].str.upper()\n",
    "jointe = pd.merge(temerge, singer_gender, on='artists', how='left')\n",
    "\n",
    "jointe['gender'].loc[jointe['artists']=='AVICII'] = jointe['gender'].loc[jointe['artists']=='AVICII'].replace(to_replace=np.nan, value = 'male')\n",
    "jointe['gender'].loc[jointe['artists']=='DAVID GUETTA'] = jointe['gender'].loc[jointe['artists']=='DAVID GUETTA'].replace(to_replace=np.nan,value = 'male')\n",
    "jointe['gender'].loc[jointe['artists']=='ZEDD'] = jointe['gender'].loc[jointe['artists']=='ZEDD'].replace(to_replace=np.nan, value = 'male')\n",
    "jointe['gender'].loc[jointe['artists']=='DJ SNAKE'] = jointe['gender'].loc[jointe['artists']=='DJ SNAKE'].replace(to_replace=np.nan, value = 'male')\n",
    "jointe['gender'].loc[jointe['artists']=='STEVE AOKI'] = jointe['gender'].loc[jointe['artists']=='STEVE AOKI'].replace(to_replace=np.nan, value = 'male')\n",
    "jointe['gender'].loc[jointe['artists']=='KYGO'] = jointe['gender'].loc[jointe['artists']=='KYGO'].replace(to_replace=np.nan, value = 'male')\n",
    "jointe['gender'].loc[jointe['artists']=='SKRILLEX'] = jointe['gender'].loc[jointe['artists']=='SKRILLEX'].replace(to_replace=np.nan, value = 'male')\n",
    "jointe['gender'].loc[jointe['artists']=='MARTIN GARRIX'] = jointe['gender'].loc[jointe['artists']=='MARTIN GARRIX'].replace(to_replace=np.nan, value = 'male')\n",
    "jointe['gender'].loc[jointe['artists']=='AFROJACK'] = jointe['gender'].loc[jointe['artists']=='AFROJACK'].replace(to_replace=np.nan, value = 'male')\n",
    "jointe['gender'].loc[jointe['artists']=='ALESSO'] = jointe['gender'].loc[jointe['artists']=='ALESSO'].replace(to_replace=np.nan, value = 'male')\n",
    "jointe['gender'].loc[jointe['artists']=='TIESTO'] = jointe['gender'].loc[jointe['artists']=='TIESTO'].replace(to_replace=np.nan, value = 'male')\n",
    "jointe['gender'].loc[jointe['artists']=='PSY'] = jointe['gender'].loc[jointe['artists']=='PSY'].replace(to_replace=np.nan, value = 'male')\n",
    "jointe['gender'] = jointe['gender'].fillna('group')\n",
    "jointegender = pd.DataFrame({'gender':jointe.gender.value_counts().index, 'count':jointe.gender.value_counts().values})\n",
    "jointe\n"
   ]
  },
  {
   "cell_type": "code",
   "execution_count": 171,
   "metadata": {},
   "outputs": [
    {
     "data": {
      "text/plain": [
       "<matplotlib.axes._subplots.AxesSubplot at 0x11c05bf98>"
      ]
     },
     "execution_count": 171,
     "metadata": {},
     "output_type": "execute_result"
    },
    {
     "data": {
      "image/png": "[encoded data removed]",
      "text/plain": [
       "<matplotlib.figure.Figure at 0x11bf72e80>"
      ]
     },
     "metadata": {},
     "output_type": "display_data"
    }
   ],
   "source": [
    "#sns.barplot(x=\"gender\", y=\"count\",data=jointegender)"
   ]
  },
  {
   "cell_type": "code",
   "execution_count": 77,
   "metadata": {
    "collapsed": true
   },
   "outputs": [],
   "source": [
    "#from os import path\n",
    "#from wordcloud import WordCloud"
   ]
  },
  {
   "cell_type": "code",
   "execution_count": 90,
   "metadata": {
    "collapsed": true
   },
   "outputs": [],
   "source": [
    "#a = ts['artists'].astype(str)\n",
    "#tuples = tuple([tuple(x) for x in ts['artists'].text.value_counts().reset_index().values])\n"
   ]
  },
  {
   "cell_type": "code",
   "execution_count": 91,
   "metadata": {
    "collapsed": true
   },
   "outputs": [],
   "source": [
    "#wordcloud = WordCloud().generate(a)"
   ]
  },
  {
   "cell_type": "code",
   "execution_count": null,
   "metadata": {
    "collapsed": true
   },
   "outputs": [],
   "source": []
  }
 ],
 "metadata": {
  "kernelspec": {
   "display_name": "Python 3",
   "language": "python",
   "name": "python3"
  },
  "language_info": {
   "codemirror_mode": {
    "name": "ipython",
    "version": 3
   },
   "file_extension": ".py",
   "mimetype": "text/x-python",
   "name": "python",
   "nbconvert_exporter": "python",
   "pygments_lexer": "ipython3",
   "version": "3.6.1"
  }
 },
 "nbformat": 4,
 "nbformat_minor": 2
}
