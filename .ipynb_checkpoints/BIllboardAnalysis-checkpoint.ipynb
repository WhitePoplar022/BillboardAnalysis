{
 "cells": [
  {
   "cell_type": "code",
   "execution_count": 1,
   "metadata": {
    "collapsed": true
   },
   "outputs": [],
   "source": [
    "import pandas as pd\n",
    "import numpy as np\n",
    "import matplotlib as mpl\n",
    "import matplotlib.pyplot as plt\n",
    "import seaborn as sns\n",
    "import re\n",
    "from collections import Counter"
   ]
  },
  {
   "cell_type": "code",
   "execution_count": 2,
   "metadata": {
    "collapsed": true
   },
   "outputs": [],
   "source": [
    "%matplotlib inline\n",
    "plt.rcParams[\"figure.figsize\"] = [10.0,6.0]"
   ]
  },
  {
   "cell_type": "code",
   "execution_count": 3,
   "metadata": {
    "collapsed": true
   },
   "outputs": [],
   "source": [
    "ts = pd.read_csv('billtopsong.csv')"
   ]
  },
  {
   "cell_type": "code",
   "execution_count": 4,
   "metadata": {
    "collapsed": true
   },
   "outputs": [],
   "source": [
    "ts['artists'] = ts['artists'].map(lambda i: i.split(' Featuring')[0])\n",
    "ts['artists'] = ts['artists'].map(lambda i: i.split(',')[0])\n",
    "ts['artists'] = ts['artists'].map(lambda i: i.split(' &')[0])\n",
    "ts['artists'] = ts['artists'].map(lambda i: i.split(' +')[0])\n",
    "ts['artists'] = ts['artists'].map(lambda i: i.split('Jay Z ')[0])\n",
    "ts['artists'] = ts['artists'].map(lambda x: re.sub('Jay[ ]+Z', 'Jay-Z', x))\n",
    "counts = pd.DataFrame({'artists':ts.artists.value_counts().index, 'count':ts.artists.value_counts().values})\n",
    "ts_count = pd.merge(ts, counts, on='artists', how='right')\n",
    "counts_graph = counts.head(20)"
   ]
  },
  {
   "cell_type": "code",
   "execution_count": 36,
   "metadata": {
    "collapsed": true
   },
   "outputs": [],
   "source": [
    "#counts_graph.plot(x='artists', y='count', kind='bar')\n",
    "#plt.xticks(rotation='vertical')\n",
    "#plt.show()"
   ]
  },
  {
   "cell_type": "code",
   "execution_count": 6,
   "metadata": {},
   "outputs": [],
   "source": [
    "#sns.stripplot(x=\"count\", y=\"artists\", data=counts_graph)"
   ]
  },
  {
   "cell_type": "code",
   "execution_count": 8,
   "metadata": {},
   "outputs": [],
   "source": [
    "#sns.barplot(x=\"count\", y=\"artists\", data=counts_graph)"
   ]
  },
  {
   "cell_type": "code",
   "execution_count": 10,
   "metadata": {},
   "outputs": [],
   "source": [
    "#sns.swarmplot(x='year',y='artists',data=ts_count)"
   ]
  },
  {
   "cell_type": "code",
   "execution_count": 12,
   "metadata": {},
   "outputs": [],
   "source": [
    "swarm = ts_count[ts_count['artists'].isin(counts_graph.artists)]\n",
    "#sns.swarmplot(x='year',y='artists',data=swarm)"
   ]
  },
  {
   "cell_type": "code",
   "execution_count": 24,
   "metadata": {
    "collapsed": true
   },
   "outputs": [],
   "source": [
    "top_artist = pd.read_csv('billtopar.csv')"
   ]
  },
  {
   "cell_type": "code",
   "execution_count": 25,
   "metadata": {},
   "outputs": [],
   "source": [
    "ta = pd.DataFrame({'artists':top_artist.artists.value_counts().index, 'count':top_artist.artists.value_counts().values})\n",
    "ta_head = ta.head(20)\n",
    "#sns.barplot(x=\"count\", y=\"artists\", data=ta_head);"
   ]
  },
  {
   "cell_type": "code",
   "execution_count": 27,
   "metadata": {},
   "outputs": [],
   "source": [
    "ta_count = pd.merge(ta, top_artist, on='artists', how='right')\n",
    "swarma = ta_count[ta_count['artists'].isin(ta_head.artists)]\n",
    "#sns.swarmplot(x='year',y='artists',data=swarma)"
   ]
  },
  {
   "cell_type": "code",
   "execution_count": 28,
   "metadata": {},
   "outputs": [],
   "source": [
    "all_time = pd.read_csv('billall.csv')\n",
    "all_time = all_time.rename(columns={'name': 'artists'})\n",
    "#all_time"
   ]
  },
  {
   "cell_type": "code",
   "execution_count": 30,
   "metadata": {},
   "outputs": [],
   "source": [
    "all_time_count = pd.merge(all_time, ta, on='artists', how='right')\n",
    "all_time_count = all_time_count.head(25)\n",
    "#all_time_count"
   ]
  },
  {
   "cell_type": "code",
   "execution_count": 31,
   "metadata": {
    "collapsed": true
   },
   "outputs": [],
   "source": [
    "top_rap = pd.read_csv('billtoprap.csv')"
   ]
  },
  {
   "cell_type": "code",
   "execution_count": 32,
   "metadata": {
    "collapsed": true
   },
   "outputs": [],
   "source": [
    "top_rap['artists'] = top_rap['artists'].map(lambda i: i.split(' Featuring')[0])\n",
    "top_rap['artists'] = top_rap['artists'].map(lambda i: i.split(',')[0])\n",
    "top_rap['artists'] = top_rap['artists'].map(lambda i: i.split(' &')[0])\n",
    "top_rap['artists'] = top_rap['artists'].map(lambda i: i.split(' +')[0])\n",
    "top_rap['artists'] = top_rap['artists'].map(lambda i: i.split('Jay Z ')[0])\n",
    "top_rap['artists'] = top_rap['artists'].map(lambda x: re.sub('Jay[ ]+Z', 'Jay-Z', x))\n",
    "rap_counts = pd.DataFrame({'artists':top_rap.artists.value_counts().index, 'count':top_rap.artists.value_counts().values})\n",
    "tr_count = pd.merge(top_rap, rap_counts, on='artists', how='right')\n",
    "tr_counts_graph = rap_counts.head(20)"
   ]
  },
  {
   "cell_type": "code",
   "execution_count": 40,
   "metadata": {},
   "outputs": [],
   "source": [
    "#sns.barplot(x=\"count\", y=\"artists\", palette=\"PuBuGn_d\",data=tr_counts_graph)"
   ]
  },
  {
   "cell_type": "code",
   "execution_count": 42,
   "metadata": {},
   "outputs": [],
   "source": [
    "rap_swarm = tr_count[tr_count['artists'].isin(tr_counts_graph.artists)]\n",
    "#sns.swarmplot(x='year',y='artists',palette=\"PuBuGn_d\",data=rap_swarm)"
   ]
  },
  {
   "cell_type": "code",
   "execution_count": 43,
   "metadata": {
    "collapsed": true
   },
   "outputs": [],
   "source": [
    "top_rb = pd.read_csv('billtoprb.csv')"
   ]
  },
  {
   "cell_type": "code",
   "execution_count": 44,
   "metadata": {
    "collapsed": true
   },
   "outputs": [],
   "source": [
    "top_rb['artists'] = top_rb['artists'].map(lambda i: i.split(' Featuring')[0])\n",
    "top_rb['artists'] = top_rb['artists'].map(lambda i: i.split(',')[0])\n",
    "top_rb['artists'] = top_rb['artists'].map(lambda i: i.split(' &')[0])\n",
    "top_rb['artists'] = top_rb['artists'].map(lambda i: i.split(' +')[0])\n",
    "top_rb['artists'] = top_rb['artists'].map(lambda i: i.split('Jay Z ')[0])\n",
    "top_rb['artists'] = top_rb['artists'].map(lambda x: re.sub('Jay[ ]+Z', 'Jay-Z', x))\n",
    "rb_counts = pd.DataFrame({'artists':top_rb.artists.value_counts().index, 'count':top_rb.artists.value_counts().values})\n",
    "trb_count = pd.merge(top_rb, rb_counts, on='artists', how='right')\n",
    "trb_counts_graph = rb_counts.head(20)"
   ]
  },
  {
   "cell_type": "code",
   "execution_count": 46,
   "metadata": {},
   "outputs": [],
   "source": [
    "#sns.barplot(x=\"count\", y=\"artists\", palette=\"PuBuGn_d\",data=trb_counts_graph)"
   ]
  },
  {
   "cell_type": "code",
   "execution_count": 48,
   "metadata": {},
   "outputs": [],
   "source": [
    "swarmrb = trb_count[trb_count['artists'].isin(trb_counts_graph.artists)]\n",
    "#sns.swarmplot(x='year',y='artists',palette=\"PuBuGn_d\",data=swarmrb)"
   ]
  },
  {
   "cell_type": "code",
   "execution_count": 49,
   "metadata": {
    "collapsed": true
   },
   "outputs": [],
   "source": [
    "top_rock = pd.read_csv('billtoprock.csv')"
   ]
  },
  {
   "cell_type": "code",
   "execution_count": 50,
   "metadata": {
    "collapsed": true
   },
   "outputs": [],
   "source": [
    "top_rock['artists'] = top_rock['artists'].map(lambda i: i.split(' Featuring')[0])\n",
    "top_rock['artists'] = top_rock['artists'].map(lambda i: i.split(',')[0])\n",
    "top_rock['artists'] = top_rock['artists'].map(lambda i: i.split(' &')[0])\n",
    "top_rock['artists'] = top_rock['artists'].map(lambda i: i.split(' +')[0])\n",
    "rock_counts = pd.DataFrame({'artists':top_rock.artists.value_counts().index, 'count':top_rock.artists.value_counts().values})\n",
    "trock_count = pd.merge(top_rock, rock_counts, on='artists', how='right')\n",
    "trock_counts_graph = rock_counts.head(20)"
   ]
  },
  {
   "cell_type": "code",
   "execution_count": 52,
   "metadata": {},
   "outputs": [],
   "source": [
    "#sns.barplot(x=\"count\", y=\"artists\", palette='PuBuGn_d',data=trock_counts_graph)"
   ]
  },
  {
   "cell_type": "code",
   "execution_count": 54,
   "metadata": {},
   "outputs": [],
   "source": [
    "swarmrock = trock_count[trock_count['artists'].isin(trock_counts_graph.artists)]\n",
    "#sns.swarmplot(x='year',y='artists',palette='PuBuGn_d',data=swarmrock)"
   ]
  },
  {
   "cell_type": "code",
   "execution_count": 55,
   "metadata": {
    "collapsed": true
   },
   "outputs": [],
   "source": [
    "topc = pd.read_csv('billtopcountry.csv')"
   ]
  },
  {
   "cell_type": "code",
   "execution_count": 56,
   "metadata": {
    "collapsed": true
   },
   "outputs": [],
   "source": [
    "topc['artists'] = topc['artists'].map(lambda i: i.split(' Featuring')[0])\n",
    "topc['artists'] = topc['artists'].map(lambda i: i.split(',')[0])\n",
    "topc['artists'] = topc['artists'].map(lambda i: i.split(' &')[0])\n",
    "topc['artists'] = topc['artists'].map(lambda i: i.split(' +')[0])\n",
    "c_counts = pd.DataFrame({'artists':topc.artists.value_counts().index, 'count':topc.artists.value_counts().values})\n",
    "tc_count = pd.merge(topc, c_counts, on='artists', how='right')\n",
    "tc_counts_graph = c_counts.head(20)"
   ]
  },
  {
   "cell_type": "code",
   "execution_count": 58,
   "metadata": {},
   "outputs": [],
   "source": [
    "#sns.barplot(x=\"count\", y=\"artists\", palette='PuBuGn_d',data=tc_counts_graph)"
   ]
  },
  {
   "cell_type": "code",
   "execution_count": 60,
   "metadata": {},
   "outputs": [],
   "source": [
    "swarmc = tc_count[tc_count['artists'].isin(tc_counts_graph.artists)]\n",
    "#sns.swarmplot(x='year',y='artists',palette='PuBuGn_d',data=swarmc)"
   ]
  },
  {
   "cell_type": "code",
   "execution_count": 61,
   "metadata": {
    "collapsed": true
   },
   "outputs": [],
   "source": [
    "tope = pd.read_csv('billtopedm.csv')"
   ]
  },
  {
   "cell_type": "code",
   "execution_count": 62,
   "metadata": {
    "collapsed": true
   },
   "outputs": [],
   "source": [
    "tope['artists'] = tope['artists'].map(lambda i: i.split(' Featuring')[0])\n",
    "tope['artists'] = tope['artists'].map(lambda i: i.split(',')[0])\n",
    "tope['artists'] = tope['artists'].map(lambda i: i.split(' &')[0])\n",
    "tope['artists'] = tope['artists'].map(lambda i: i.split(' +')[0])\n",
    "edm_counts = pd.DataFrame({'artists':tope.artists.value_counts().index, 'count':tope.artists.value_counts().values})\n",
    "te_count = pd.merge(tope, edm_counts, on='artists', how='right')\n",
    "te_counts_graph = edm_counts.head(20)"
   ]
  },
  {
   "cell_type": "code",
   "execution_count": 66,
   "metadata": {},
   "outputs": [],
   "source": [
    "#sns.barplot(x=\"count\", y=\"artists\",data=te_counts_graph)"
   ]
  },
  {
   "cell_type": "code",
   "execution_count": 68,
   "metadata": {},
   "outputs": [],
   "source": [
    "swarme = te_count[te_count['artists'].isin(te_counts_graph.artists)]\n",
    "#sns.swarmplot(x='year',y='artists',data=swarme)"
   ]
  },
  {
   "cell_type": "code",
   "execution_count": 69,
   "metadata": {
    "collapsed": true
   },
   "outputs": [],
   "source": [
    "singer_gender = pd.read_csv('singers_gender.csv',encoding='latin-1')\n",
    "singer_gender = singer_gender.rename(columns={'artist': 'artists'})\n",
    "singer_gender['artists'] = singer_gender['artists'].str.upper()"
   ]
  },
  {
   "cell_type": "code",
   "execution_count": 70,
   "metadata": {
    "collapsed": true
   },
   "outputs": [],
   "source": [
    "tsmerge = counts_graph.copy()\n",
    "tsmerge['artists'] = tsmerge['artists'].str.upper()"
   ]
  },
  {
   "cell_type": "code",
   "execution_count": 68,
   "metadata": {
    "collapsed": true
   },
   "outputs": [],
   "source": [
    "#a = singer_gender[singer_gender.artists.map(lambda x: re.match('SEAN*', x)!= None)]"
   ]
  },
  {
   "cell_type": "code",
   "execution_count": 71,
   "metadata": {},
   "outputs": [
    {
     "name": "stderr",
     "output_type": "stream",
     "text": [
      "/Users/xiaoweicheng/anaconda/lib/python3.6/site-packages/pandas/core/indexing.py:179: SettingWithCopyWarning: \n",
      "A value is trying to be set on a copy of a slice from a DataFrame\n",
      "\n",
      "See the caveats in the documentation: http://pandas.pydata.org/pandas-docs/stable/indexing.html#indexing-view-versus-copy\n",
      "  self._setitem_with_indexer(indexer, value)\n"
     ]
    }
   ],
   "source": [
    "joints = pd.merge(tsmerge, singer_gender, on='artists', how='left')\n",
    "joints['gender'].loc[joints['artists']=='BEYONCE'] = joints['gender'].loc[joints['artists']=='BEYONCE'].replace(to_replace=np.nan, value = 'female')\n",
    "joints['gender'] = joints['gender'].fillna('group')"
   ]
  },
  {
   "cell_type": "code",
   "execution_count": 72,
   "metadata": {
    "collapsed": true
   },
   "outputs": [],
   "source": [
    "jointsgender = pd.DataFrame({'gender':joints.gender.value_counts().index, 'count':joints.gender.value_counts().values})"
   ]
  },
  {
   "cell_type": "code",
   "execution_count": 103,
   "metadata": {
    "collapsed": true
   },
   "outputs": [],
   "source": [
    "#sns.swarmplot(x=\"count\", y=\"gender\",data=joints)"
   ]
  },
  {
   "cell_type": "code",
   "execution_count": 74,
   "metadata": {},
   "outputs": [],
   "source": [
    "#sns.barplot(x=\"gender\", y=\"count\",data=jointsgender)"
   ]
  },
  {
   "cell_type": "code",
   "execution_count": 75,
   "metadata": {},
   "outputs": [
    {
     "name": "stderr",
     "output_type": "stream",
     "text": [
      "/Users/xiaoweicheng/anaconda/lib/python3.6/site-packages/pandas/core/indexing.py:179: SettingWithCopyWarning: \n",
      "A value is trying to be set on a copy of a slice from a DataFrame\n",
      "\n",
      "See the caveats in the documentation: http://pandas.pydata.org/pandas-docs/stable/indexing.html#indexing-view-versus-copy\n",
      "  self._setitem_with_indexer(indexer, value)\n"
     ]
    }
   ],
   "source": [
    "tamerge = ta_head.copy()\n",
    "tamerge['artists'] = tamerge['artists'].str.upper()\n",
    "jointa = pd.merge(tamerge, singer_gender, on='artists', how='left')\n",
    "jointa['gender'].loc[jointa['artists']=='PITBULL'] = jointa['gender'].loc[jointa['artists']=='PITBULL'].replace(to_replace=np.nan, value = 'male')\n",
    "jointa['gender'].loc[jointa['artists']=='BEYONCE'] = jointa['gender'].loc[jointa['artists']=='BEYONCE'].replace(to_replace=np.nan, value = 'female')\n",
    "jointa['gender'] = jointa['gender'].fillna('group')\n"
   ]
  },
  {
   "cell_type": "code",
   "execution_count": 74,
   "metadata": {
    "collapsed": true
   },
   "outputs": [],
   "source": [
    "#sns.swarmplot(x=\"count\", y=\"gender\",data=jointa)"
   ]
  },
  {
   "cell_type": "code",
   "execution_count": 77,
   "metadata": {},
   "outputs": [],
   "source": [
    "jointagender = pd.DataFrame({'gender':jointa.gender.value_counts().index, 'count':jointa.gender.value_counts().values})\n",
    "#sns.barplot(x=\"gender\", y=\"count\",data=jointagender)"
   ]
  },
  {
   "cell_type": "code",
   "execution_count": 78,
   "metadata": {
    "collapsed": true
   },
   "outputs": [],
   "source": [
    "allmerge = all_time.copy()\n",
    "allmerge['artists'] = allmerge['artists'].str.upper()\n",
    "joinall = pd.merge(allmerge, singer_gender, on='artists', how='left')"
   ]
  },
  {
   "cell_type": "code",
   "execution_count": 79,
   "metadata": {
    "collapsed": true
   },
   "outputs": [],
   "source": [
    "joinall['gender'] = joinall['gender'].fillna('group')"
   ]
  },
  {
   "cell_type": "code",
   "execution_count": 80,
   "metadata": {
    "collapsed": true
   },
   "outputs": [],
   "source": [
    "joinallgender = pd.DataFrame({'gender':joinall.gender.value_counts().index, 'count':joinall.gender.value_counts().values})"
   ]
  },
  {
   "cell_type": "code",
   "execution_count": 82,
   "metadata": {},
   "outputs": [],
   "source": [
    "#sns.barplot(x=\"gender\", y=\"count\",data=joinallgender)"
   ]
  },
  {
   "cell_type": "code",
   "execution_count": 83,
   "metadata": {},
   "outputs": [
    {
     "name": "stderr",
     "output_type": "stream",
     "text": [
      "/Users/xiaoweicheng/anaconda/lib/python3.6/site-packages/pandas/core/indexing.py:179: SettingWithCopyWarning: \n",
      "A value is trying to be set on a copy of a slice from a DataFrame\n",
      "\n",
      "See the caveats in the documentation: http://pandas.pydata.org/pandas-docs/stable/indexing.html#indexing-view-versus-copy\n",
      "  self._setitem_with_indexer(indexer, value)\n"
     ]
    }
   ],
   "source": [
    "trapmerge = tr_counts_graph.copy()\n",
    "trapmerge['artists'] = trapmerge['artists'].str.upper()\n",
    "jointrap = pd.merge(trapmerge, singer_gender, on='artists', how='left')\n",
    "jointrap['gender'].loc[jointrap['artists']=='PITBULL'] = jointrap['gender'].loc[jointrap['artists']=='PITBULL'].replace(to_replace=np.nan, value = 'male')\n",
    "jointrap['gender'].loc[jointrap['artists']=='DJ KHALED'] = jointrap['gender'].loc[jointrap['artists']=='DJ KHALED'].replace(to_replace=np.nan, value = 'male')\n",
    "jointrap['gender'].loc[jointrap['artists']=='IGGY AZALEA'] = jointrap['gender'].loc[jointrap['artists']=='IGGY AZALEA'].replace(to_replace=np.nan, value = 'female')\n",
    "jointrap['gender'].loc[jointrap['artists']=='JAY-Z'] = jointrap['gender'].loc[jointrap['artists']=='JAY-Z'].replace(to_replace=np.nan, value = 'male')\n",
    "jointrap['gender'] = jointrap['gender'].fillna('group')\n",
    "jointrapgender = pd.DataFrame({'gender':jointrap.gender.value_counts().index, 'count':jointrap.gender.value_counts().values})\n"
   ]
  },
  {
   "cell_type": "code",
   "execution_count": 85,
   "metadata": {},
   "outputs": [],
   "source": [
    "#sns.barplot(x=\"gender\", y=\"count\",data=jointrapgender)"
   ]
  },
  {
   "cell_type": "code",
   "execution_count": 86,
   "metadata": {},
   "outputs": [
    {
     "name": "stderr",
     "output_type": "stream",
     "text": [
      "/Users/xiaoweicheng/anaconda/lib/python3.6/site-packages/pandas/core/indexing.py:179: SettingWithCopyWarning: \n",
      "A value is trying to be set on a copy of a slice from a DataFrame\n",
      "\n",
      "See the caveats in the documentation: http://pandas.pydata.org/pandas-docs/stable/indexing.html#indexing-view-versus-copy\n",
      "  self._setitem_with_indexer(indexer, value)\n"
     ]
    }
   ],
   "source": [
    "trbmerge = trb_counts_graph.copy()\n",
    "trbmerge['artists'] = trbmerge['artists'].str.upper()\n",
    "jointrb = pd.merge(trbmerge, singer_gender, on='artists', how='left')\n",
    "jointrb['gender'].loc[jointrb['artists']=='DJ KHALED'] = jointrb['gender'].loc[jointrb['artists']=='DJ KHALED'].replace(to_replace=np.nan, value = 'male')\n",
    "jointrb['gender'].loc[jointrb['artists']=='JAY-Z'] = jointrb['gender'].loc[jointrb['artists']=='JAY-Z'].replace(to_replace=np.nan, value = 'male')\n",
    "jointrb['gender'].loc[jointrb['artists']=='BEYONCE'] = jointrb['gender'].loc[jointrb['artists']=='BEYONCE'].replace(to_replace=np.nan, value = 'female')\n",
    "jointrb['gender'].loc[jointrb['artists']=='THE WEEKND'] = jointrb['gender'].loc[jointrb['artists']=='THE WEEKND'].replace(to_replace=np.nan,value = 'male')\n",
    "jointrbgender = pd.DataFrame({'gender':jointrb.gender.value_counts().index, 'count':jointrb.gender.value_counts().values})\n"
   ]
  },
  {
   "cell_type": "code",
   "execution_count": 88,
   "metadata": {},
   "outputs": [],
   "source": [
    "#sns.barplot(x=\"gender\", y=\"count\",data=jointrbgender)"
   ]
  },
  {
   "cell_type": "code",
   "execution_count": 89,
   "metadata": {
    "collapsed": true
   },
   "outputs": [],
   "source": [
    "trockmerge = trock_counts_graph.copy()\n",
    "trockmerge['artists'] = trockmerge['artists'].str.upper()\n",
    "jointrock = pd.merge(trockmerge, singer_gender, on='artists', how='left')\n",
    "jointrock['gender'] = jointrock['gender'].fillna('group')\n",
    "jointrockgender = pd.DataFrame({'gender':jointrock.gender.value_counts().index, 'count':jointrock.gender.value_counts().values})\n"
   ]
  },
  {
   "cell_type": "code",
   "execution_count": 91,
   "metadata": {},
   "outputs": [],
   "source": [
    "#sns.barplot(x=\"gender\", y=\"count\",data=jointrockgender)"
   ]
  },
  {
   "cell_type": "code",
   "execution_count": 92,
   "metadata": {
    "collapsed": true
   },
   "outputs": [],
   "source": [
    "tcmerge = tc_counts_graph.copy()\n",
    "tcmerge['artists'] = tcmerge['artists'].str.upper()\n",
    "jointc = pd.merge(tcmerge, singer_gender, on='artists', how='left')\n",
    "jointc['gender'] = jointc['gender'].fillna('group')\n",
    "jointcgender = pd.DataFrame({'gender':jointc.gender.value_counts().index, 'count':jointc.gender.value_counts().values})\n"
   ]
  },
  {
   "cell_type": "code",
   "execution_count": 94,
   "metadata": {},
   "outputs": [],
   "source": [
    "#sns.barplot(x=\"gender\", y=\"count\",data=jointcgender)"
   ]
  },
  {
   "cell_type": "code",
   "execution_count": 95,
   "metadata": {},
   "outputs": [
    {
     "name": "stderr",
     "output_type": "stream",
     "text": [
      "/Users/xiaoweicheng/anaconda/lib/python3.6/site-packages/pandas/core/indexing.py:179: SettingWithCopyWarning: \n",
      "A value is trying to be set on a copy of a slice from a DataFrame\n",
      "\n",
      "See the caveats in the documentation: http://pandas.pydata.org/pandas-docs/stable/indexing.html#indexing-view-versus-copy\n",
      "  self._setitem_with_indexer(indexer, value)\n"
     ]
    }
   ],
   "source": [
    "temerge = te_counts_graph.copy()\n",
    "temerge['artists'] = temerge['artists'].str.upper()\n",
    "jointe = pd.merge(temerge, singer_gender, on='artists', how='left')\n",
    "\n",
    "jointe['gender'].loc[jointe['artists']=='AVICII'] = jointe['gender'].loc[jointe['artists']=='AVICII'].replace(to_replace=np.nan, value = 'male')\n",
    "jointe['gender'].loc[jointe['artists']=='DAVID GUETTA'] = jointe['gender'].loc[jointe['artists']=='DAVID GUETTA'].replace(to_replace=np.nan,value = 'male')\n",
    "jointe['gender'].loc[jointe['artists']=='ZEDD'] = jointe['gender'].loc[jointe['artists']=='ZEDD'].replace(to_replace=np.nan, value = 'male')\n",
    "jointe['gender'].loc[jointe['artists']=='DJ SNAKE'] = jointe['gender'].loc[jointe['artists']=='DJ SNAKE'].replace(to_replace=np.nan, value = 'male')\n",
    "jointe['gender'].loc[jointe['artists']=='STEVE AOKI'] = jointe['gender'].loc[jointe['artists']=='STEVE AOKI'].replace(to_replace=np.nan, value = 'male')\n",
    "jointe['gender'].loc[jointe['artists']=='KYGO'] = jointe['gender'].loc[jointe['artists']=='KYGO'].replace(to_replace=np.nan, value = 'male')\n",
    "jointe['gender'].loc[jointe['artists']=='SKRILLEX'] = jointe['gender'].loc[jointe['artists']=='SKRILLEX'].replace(to_replace=np.nan, value = 'male')\n",
    "jointe['gender'].loc[jointe['artists']=='MARTIN GARRIX'] = jointe['gender'].loc[jointe['artists']=='MARTIN GARRIX'].replace(to_replace=np.nan, value = 'male')\n",
    "jointe['gender'].loc[jointe['artists']=='AFROJACK'] = jointe['gender'].loc[jointe['artists']=='AFROJACK'].replace(to_replace=np.nan, value = 'male')\n",
    "jointe['gender'].loc[jointe['artists']=='ALESSO'] = jointe['gender'].loc[jointe['artists']=='ALESSO'].replace(to_replace=np.nan, value = 'male')\n",
    "jointe['gender'].loc[jointe['artists']=='TIESTO'] = jointe['gender'].loc[jointe['artists']=='TIESTO'].replace(to_replace=np.nan, value = 'male')\n",
    "jointe['gender'].loc[jointe['artists']=='PSY'] = jointe['gender'].loc[jointe['artists']=='PSY'].replace(to_replace=np.nan, value = 'male')\n",
    "jointe['gender'] = jointe['gender'].fillna('group')\n",
    "jointegender = pd.DataFrame({'gender':jointe.gender.value_counts().index, 'count':jointe.gender.value_counts().values})\n",
    "\n"
   ]
  },
  {
   "cell_type": "code",
   "execution_count": 97,
   "metadata": {},
   "outputs": [],
   "source": [
    "#sns.barplot(x=\"gender\", y=\"count\",data=jointegender)"
   ]
  },
  {
   "cell_type": "code",
   "execution_count": 99,
   "metadata": {
    "collapsed": true
   },
   "outputs": [],
   "source": [
    "ts_info = counts_graph.copy()\n",
    "ts_info['studio albums'] = pd.Series([8,5,4,8,5,6,5,5,4,13,4,8,6,3,6,9,7,5,9,4], index=ts_info.index)\n",
    "ts_info['singles'] = pd.Series([68,37,99,106,27,62,26,23,36,200,39,53,16,16,20,42,34,27,110,40], index=ts_info.index)"
   ]
  },
  {
   "cell_type": "code",
   "execution_count": 105,
   "metadata": {},
   "outputs": [],
   "source": [
    "#sns.barplot(x='singles',y='artists',palette='YlGnBu',data=ts_info)"
   ]
  },
  {
   "cell_type": "code",
   "execution_count": 174,
   "metadata": {
    "collapsed": true
   },
   "outputs": [],
   "source": [
    "#sns.stripplot(x='singles',y='artists',data=ts_info)"
   ]
  },
  {
   "cell_type": "code",
   "execution_count": 103,
   "metadata": {},
   "outputs": [],
   "source": [
    "#sns.barplot(x='studio albums', y='artists',palette='YlGnBu',data=ts_info)"
   ]
  },
  {
   "cell_type": "code",
   "execution_count": 146,
   "metadata": {
    "collapsed": true
   },
   "outputs": [],
   "source": [
    "from sklearn import datasets, linear_model"
   ]
  },
  {
   "cell_type": "code",
   "execution_count": 147,
   "metadata": {
    "collapsed": true
   },
   "outputs": [],
   "source": [
    "lm = linear_model.LinearRegression()"
   ]
  },
  {
   "cell_type": "code",
   "execution_count": 172,
   "metadata": {},
   "outputs": [
    {
     "name": "stdout",
     "output_type": "stream",
     "text": [
      "[[ 0.02930403]]\n",
      "[ 13.26831502]\n",
      "0.000171446921607\n"
     ]
    }
   ],
   "source": [
    "lm.fit(ts_info[['studio albums']],ts_info[['count']])\n",
    "print(lm.coef_)\n",
    "print(lm.intercept_)\n",
    "print(lm.score(ts_info[['studio albums']],ts_info[['count']]))"
   ]
  },
  {
   "cell_type": "code",
   "execution_count": 176,
   "metadata": {},
   "outputs": [
    {
     "name": "stdout",
     "output_type": "stream",
     "text": [
      "[[ 0.01799333]]\n",
      "[ 12.47746031]\n",
      "0.0226516315944\n"
     ]
    }
   ],
   "source": [
    "lm.fit(ts_info[['singles']],ts_info[['count']])\n",
    "print(lm.coef_)\n",
    "print(lm.intercept_)\n",
    "print(lm.score(ts_info[['singles']],ts_info[['count']]))"
   ]
  },
  {
   "cell_type": "code",
   "execution_count": 106,
   "metadata": {
    "collapsed": true
   },
   "outputs": [],
   "source": [
    "from os import path\n",
    "from wordcloud import WordCloud,STOPWORDS, ImageColorGenerator"
   ]
  },
  {
   "cell_type": "code",
   "execution_count": 107,
   "metadata": {
    "collapsed": true
   },
   "outputs": [],
   "source": [
    "wordcloudartists = WordCloud().generate(' '.join(list(top_artist['artists'])))"
   ]
  },
  {
   "cell_type": "code",
   "execution_count": 110,
   "metadata": {
    "scrolled": true
   },
   "outputs": [],
   "source": [
    "#plt.imshow(wordcloudartists, interpolation='bilinear')\n",
    "#plt.axis(\"off\")"
   ]
  },
  {
   "cell_type": "code",
   "execution_count": 179,
   "metadata": {
    "collapsed": true
   },
   "outputs": [],
   "source": [
    "wordcloudsongs = WordCloud().generate(' '.join(list(ts['name'])))"
   ]
  },
  {
   "cell_type": "code",
   "execution_count": 109,
   "metadata": {},
   "outputs": [],
   "source": [
    "#plt.imshow(wordcloudsongs, interpolation='bilinear')\n",
    "#plt.axis(\"off\")"
   ]
  },
  {
   "cell_type": "code",
   "execution_count": 111,
   "metadata": {},
   "outputs": [],
   "source": [
    "wordcloudsall = WordCloud().generate(' '.join(list(all_time['artists'])))\n",
    "#plt.imshow(wordcloudsall, interpolation='bilinear')\n",
    "#plt.axis(\"off\")"
   ]
  },
  {
   "cell_type": "code",
   "execution_count": 112,
   "metadata": {},
   "outputs": [],
   "source": [
    "wordcloudsrap = WordCloud().generate(' '.join(list(top_rap['name'])))\n",
    "#plt.imshow(wordcloudsrap, interpolation='bilinear')\n",
    "#plt.axis(\"off\")"
   ]
  },
  {
   "cell_type": "code",
   "execution_count": 113,
   "metadata": {},
   "outputs": [],
   "source": [
    "wordcloudsrb = WordCloud().generate(' '.join(list(top_rb['name'])))\n",
    "#plt.imshow(wordcloudsrb, interpolation='bilinear')\n",
    "#plt.axis(\"off\")"
   ]
  },
  {
   "cell_type": "code",
   "execution_count": 114,
   "metadata": {},
   "outputs": [],
   "source": [
    "wordcloudsrock = WordCloud().generate(' '.join(list(top_rock['name'])))\n",
    "#plt.imshow(wordcloudsrock, interpolation='bilinear')\n",
    "#plt.axis(\"off\")"
   ]
  },
  {
   "cell_type": "code",
   "execution_count": 115,
   "metadata": {},
   "outputs": [],
   "source": [
    "wordcloudsc = WordCloud().generate(' '.join(list(topc['name'])))\n",
    "#plt.imshow(wordcloudsc, interpolation='bilinear')\n",
    "#plt.axis(\"off\")"
   ]
  },
  {
   "cell_type": "code",
   "execution_count": 116,
   "metadata": {},
   "outputs": [],
   "source": [
    "wordcloudsedm = WordCloud().generate(' '.join(list(tope['name'])))\n",
    "#plt.imshow(wordcloudsedm, interpolation='bilinear')\n",
    "#plt.axis(\"off\")"
   ]
  },
  {
   "cell_type": "code",
   "execution_count": null,
   "metadata": {
    "collapsed": true
   },
   "outputs": [],
   "source": []
  }
 ],
 "metadata": {
  "kernelspec": {
   "display_name": "Python 3",
   "language": "python",
   "name": "python3"
  },
  "language_info": {
   "codemirror_mode": {
    "name": "ipython",
    "version": 3
   },
   "file_extension": ".py",
   "mimetype": "text/x-python",
   "name": "python",
   "nbconvert_exporter": "python",
   "pygments_lexer": "ipython3",
   "version": "3.6.1"
  }
 },
 "nbformat": 4,
 "nbformat_minor": 2
}
